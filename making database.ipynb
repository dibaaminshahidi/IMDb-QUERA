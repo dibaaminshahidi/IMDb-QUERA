{
 "cells": [
  {
   "cell_type": "code",
   "execution_count": 1,
   "id": "2a032be0",
   "metadata": {},
   "outputs": [],
   "source": [
    "import pandas as pd\n",
    "import sqlalchemy as db\n",
    "from sqlalchemy import create_engine, Column, Integer, String, ForeignKey\n",
    "from sqlalchemy.ext.declarative import declarative_base\n",
    "from sqlalchemy.orm import relationship\n",
    "from sqlalchemy.orm import sessionmaker"
   ]
  },
  {
   "cell_type": "code",
   "execution_count": 2,
   "id": "e6d3b1af",
   "metadata": {},
   "outputs": [],
   "source": [
    "user = 'root'\n",
    "password = 'MyNewPass'\n",
    "host = 'localhost'\n",
    "database = 'Advance_Python'\n",
    "port = 3306"
   ]
  },
  {
   "cell_type": "code",
   "execution_count": 13,
   "id": "4be42b7a",
   "metadata": {},
   "outputs": [],
   "source": [
    "with db.create_engine(f'mysql+pymysql://{user}:{password}@{host}').connect() as connection:\n",
    "    connection.execute(\"DROP DATABASE IF EXISTS Advance_Python\")\n",
    "    connection.execute(f'CREATE DATABASE {database}')\n",
    "    connection.execute(\"USE Advance_Python\")\n",
    "    \n",
    "engine = db.create_engine(f'mysql+pymysql://{user}:{password}@{host}/{database}')\n",
    "Base = declarative_base()"
   ]
  },
  {
   "cell_type": "code",
   "execution_count": 14,
   "id": "b2a8e744",
   "metadata": {},
   "outputs": [],
   "source": [
    "class Person(Base):\n",
    " \n",
    "    __tablename__ = 'person'\n",
    "    id = db.Column(db.String(8),primary_key=True)\n",
    "    name  = db.Column(db.String(32))\n",
    "    \n",
    "    cast_relationship = relationship(\"Cast\", back_populates=\"person_relationship\")\n",
    "    crew_relationship = relationship(\"Crew\", back_populates=\"person_relationship\")"
   ]
  },
  {
   "cell_type": "code",
   "execution_count": 15,
   "id": "d5f5ac67",
   "metadata": {},
   "outputs": [],
   "source": [
    "class Movie(Base):\n",
    " \n",
    "    __tablename__ = 'movie'\n",
    "\n",
    "    id = db.Column(db.String(8),primary_key=True)\n",
    "    title  = db.Column(db.String(128),nullable=False)\n",
    "    year = db.Column(db.Integer,nullable=True)\n",
    "    runtime = db.Column(db.Integer,nullable=True)\n",
    "    parental_guide = db.Column(db.String(8),nullable=True)\n",
    "    gross_US_Canada = db.Column(db.Integer,nullable=True)\n",
    "    \n",
    "    cast_relationship = relationship(\"Cast\", back_populates=\"movie_relationship\")\n",
    "    crew_relationship = relationship(\"Crew\", back_populates=\"movie_relationship\")\n",
    "    genre_relationship = relationship(\"Genre_movie\", back_populates=\"movie_relationship\")\n",
    "    storyline_relationship = relationship(\"Storyline\", back_populates=\"movie_relationship\")\n",
    "\n"
   ]
  },
  {
   "cell_type": "code",
   "execution_count": 16,
   "id": "d3bfc151",
   "metadata": {},
   "outputs": [],
   "source": [
    "class Genre_movie(Base):\n",
    " \n",
    "    __tablename__ = 'genre_movie'\n",
    "    \n",
    "    id = db.Column(db.Integer, autoincrement=True, nullable=False, primary_key=True)\n",
    "    movie_id = db.Column(db.String(8),ForeignKey('movie.id'),nullable=False)\n",
    "    genre = db.Column(db.String(16),nullable=False)\n",
    "    movie_relationship = relationship(\"Movie\", back_populates=\"genre_relationship\")"
   ]
  },
  {
   "cell_type": "code",
   "execution_count": 17,
   "id": "f179cb1d",
   "metadata": {},
   "outputs": [],
   "source": [
    "class Storyline(Base):\n",
    " \n",
    "    __tablename__ = 'storyline'\n",
    "    __table_args__ = {'extend_existing': True}\n",
    "    \n",
    "    movie_id = db.Column(db.String(8),ForeignKey('movie.id'),primary_key=True,nullable=False)\n",
    "    content = db.Column(db.Text, nullable=False)\n",
    "    movie_relationship = relationship(\"Movie\", back_populates='storyline_relationship')"
   ]
  },
  {
   "cell_type": "code",
   "execution_count": 18,
   "id": "acb63e7b",
   "metadata": {},
   "outputs": [],
   "source": [
    "class Cast(Base):\n",
    " \n",
    "    __tablename__ = 'cast'\n",
    "    __table_args__ = {'extend_existing': True}\n",
    "    \n",
    "    id = db.Column(db.Integer, autoincrement=True, nullable=False, primary_key=True)\n",
    "    movie_id = db.Column(db.String(8),ForeignKey('movie.id'),nullable=False)\n",
    "    person_id = db.Column(db.String(16),ForeignKey('person.id'), nullable=False)\n",
    "    \n",
    "    movie_relationship = relationship('Movie', back_populates='cast_relationship')\n",
    "    person_relationship = relationship('Person', back_populates='cast_relationship')"
   ]
  },
  {
   "cell_type": "code",
   "execution_count": 19,
   "id": "b6c47240",
   "metadata": {},
   "outputs": [],
   "source": [
    "class Crew(Base):\n",
    " \n",
    "    __tablename__ = 'crew'\n",
    "    \n",
    "    id = db.Column(db.Integer, autoincrement=True, nullable=False, primary_key=True)\n",
    "    movie_id = db.Column(db.String(8),ForeignKey('movie.id'),nullable=False)\n",
    "    person_id = db.Column(db.String(16),ForeignKey('person.id'), nullable=False)\n",
    "    role = db.Column(db.String(8),nullable=False)\n",
    "\n",
    "\n",
    "    movie_relationship = relationship('Movie', back_populates='crew_relationship')\n",
    "    person_relationship = relationship('Person', back_populates='crew_relationship')\n",
    "    "
   ]
  },
  {
   "cell_type": "code",
   "execution_count": 20,
   "id": "d9298f08",
   "metadata": {},
   "outputs": [],
   "source": [
    "Base.metadata.create_all(engine)\n",
    "Session = sessionmaker(bind = engine)"
   ]
  },
  {
   "cell_type": "code",
   "execution_count": 21,
   "id": "5aea4a4b",
   "metadata": {},
   "outputs": [],
   "source": [
    "movie_df = pd.read_csv('./Fixed_Data/movies.csv',dtype=object)\n",
    "storyline_df = pd.read_csv('./Fixed_Data/storyline.csv',dtype=object)\n",
    "genre_movie_df = pd.read_csv('./Fixed_Data/genre_movie.csv',dtype=object)\n",
    "person_df = pd.read_csv('./Fixed_Data/person.csv',dtype=object)\n",
    "crew_df = pd.read_csv('./Fixed_Data/crew.csv',dtype=object)\n",
    "cast_df = pd.read_csv('./Fixed_Data/cast.csv',dtype=object)"
   ]
  },
  {
   "cell_type": "code",
   "execution_count": 22,
   "id": "ec18f5f7",
   "metadata": {},
   "outputs": [],
   "source": [
    "session = Session()\n",
    "for ind in person_df.index:\n",
    "    session.add(Person(id = person_df['id'][ind], name = person_df['Name'][ind]))\n",
    "    \n",
    "session.commit()\n",
    "for ind in movie_df.index:\n",
    "    session.add(Movie(id = movie_df['id'][ind], title = movie_df['Title'][ind],\n",
    "                year = movie_df['Year'][ind], runtime = movie_df['Runtime'][ind],\n",
    "                parental_guide = movie_df['Parental_Guide'][ind],\n",
    "                gross_US_Canada = movie_df['Gross_US_Canda'][ind]))\n",
    "session.commit()\n",
    "\n",
    "for ind in storyline_df.index:\n",
    "    session.add(Storyline(movie_id = storyline_df['Movie_id'][ind], content = storyline_df['Content'][ind]))\n",
    "session.commit()\n",
    "\n",
    "for ind in genre_movie_df.index:\n",
    "    session.add(Genre_movie(movie_id = genre_movie_df['Movie_id'][ind], genre = genre_movie_df['Genre'][ind]))\n",
    "session.commit()\n",
    "\n",
    "for ind in cast_df.index:\n",
    "    session.add(Cast(movie_id = cast_df['Movie_id'][ind], person_id = cast_df['Person_id'][ind]))\n",
    "session.commit()\n",
    "\n",
    "for ind in crew_df.index:\n",
    "    session.add(Crew(movie_id = crew_df['Movie_id'][ind],\n",
    "                     person_id = crew_df['Person_id'][ind],\n",
    "                     role = crew_df['Role'][ind]))\n",
    "session.commit()"
   ]
  }
 ],
 "metadata": {
  "kernelspec": {
   "display_name": "Python 3 (ipykernel)",
   "language": "python",
   "name": "python3"
  },
  "language_info": {
   "codemirror_mode": {
    "name": "ipython",
    "version": 3
   },
   "file_extension": ".py",
   "mimetype": "text/x-python",
   "name": "python",
   "nbconvert_exporter": "python",
   "pygments_lexer": "ipython3",
   "version": "3.8.0"
  }
 },
 "nbformat": 4,
 "nbformat_minor": 5
}
