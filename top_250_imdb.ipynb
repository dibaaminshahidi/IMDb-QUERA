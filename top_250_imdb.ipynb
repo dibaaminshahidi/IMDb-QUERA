{
 "cells": [
  {
   "cell_type": "code",
   "execution_count": 1,
   "metadata": {},
   "outputs": [],
   "source": [
    "import requests\n",
    "from bs4 import BeautifulSoup\n",
    "import re\n",
    "import warnings\n",
    "import json\n",
    "warnings.filterwarnings('ignore')\n",
    "import numpy as np\n",
    "import pandas as pd"
   ]
  },
  {
   "cell_type": "markdown",
   "metadata": {},
   "source": [
    "# GET LINKs"
   ]
  },
  {
   "cell_type": "code",
   "execution_count": 2,
   "metadata": {},
   "outputs": [],
   "source": [
    "path = 'https://www.imdb.com/chart/top/?ref_=nv_mv_250'\n",
    "r = requests.get(f'{path}')\n",
    "soup = BeautifulSoup(r.content, 'html.parser')\n",
    "links = []\n",
    "base = 'https://www.imdb.com'"
   ]
  },
  {
   "cell_type": "code",
   "execution_count": 5,
   "metadata": {
    "scrolled": true
   },
   "outputs": [],
   "source": [
    "path = 'https://www.imdb.com/chart/top/?ref_=nv_mv_250'\n",
    "r = requests.get(f'{path}')\n",
    "soup = BeautifulSoup(r.content, 'html.parser')\n",
    "s = soup.find('tbody', class_ = 'lister-list')\n",
    "movies = s.find_all('td',class_ = 'titleColumn')\n",
    "links = []\n",
    "base = 'https://www.imdb.com'\n",
    "for movie in movies:\n",
    "    link = movie.a['href']\n",
    "    links.append(f'{link}')"
   ]
  },
  {
   "cell_type": "markdown",
   "metadata": {},
   "source": [
    "save links"
   ]
  },
  {
   "cell_type": "code",
   "execution_count": 7,
   "metadata": {},
   "outputs": [],
   "source": [
    "links = np.array(links)\n",
    "np.save('top_250_Linkes',links)"
   ]
  },
  {
   "cell_type": "markdown",
   "metadata": {},
   "source": [
    "load links"
   ]
  },
  {
   "cell_type": "code",
   "execution_count": 10,
   "metadata": {},
   "outputs": [],
   "source": [
    "links = np.load('top_250_Linkes.npy')"
   ]
  },
  {
   "cell_type": "markdown",
   "metadata": {},
   "source": [
    "# GET DATA"
   ]
  },
  {
   "cell_type": "code",
   "execution_count": 33,
   "metadata": {},
   "outputs": [],
   "source": [
    "headers = {'User-Agent': 'Safari/605.1.15'}\n",
    "xrror = []\n",
    "\n",
    "movies = pd.DataFrame(columns = ['id','title','year','runtime','parental_guide','gross_us_canda'])\n",
    "genre_movie =  pd.DataFrame(columns = ['movie_id','genre'])\n",
    "cast = pd.DataFrame(columns = ['movie_id','person_id'])\n",
    "crew = pd.DataFrame(columns = ['movie_id','person_id','role'])\n",
    "person = pd.DataFrame(columns = ['person_id','name'])"
   ]
  },
  {
   "cell_type": "code",
   "execution_count": 34,
   "metadata": {},
   "outputs": [],
   "source": [
    "for link in links[0:25]:\n",
    "    r = requests.get(f'{base}{link}', headers=headers)\n",
    "    soup = BeautifulSoup(r.content, 'html.parser')\n",
    "    \n",
    "    try:\n",
    "        movie_id = link[9:-1]\n",
    "        title = soup.find('span', class_ = 'sc-afe43def-1 fDTGTb').text\n",
    "        info = soup.find_all('li',role ='presentation',class_=\"ipc-inline-list__item\")\n",
    "        year = int(info[3].text)\n",
    "        parental_guide = info[4].text\n",
    "        runtime = info[5].text\n",
    "        # TODO to min \n",
    "        gross_us_canda = soup.find_all('span', class_ = 'ipc-metadata-list-item__list-content-item')[3].text\n",
    "        movies.loc[len(movies.index)] = [movie_id,title,year,runtime,parental_guide,gross_us_canda]\n",
    "        genres = soup.find_all('a', class_ = 'ipc-chip ipc-chip--on-baseAlt')\n",
    "        for g in genres:\n",
    "            genre_movie.loc[len(genre_movie.index)] = [movie_id,g.text]\n",
    "            \n",
    "        for i in soup.find_all('li', \n",
    "            class_ = 'ipc-metadata-list__item')[:3]:\n",
    "            span = i.find_all('a'\n",
    "                ,class_ = 'ipc-metadata-list-item__list-content-item ipc-metadata-list-item__list-content-item--link')\n",
    "            role = f'{i.text[:8]}'\n",
    "    #         print(role+'\\n')\n",
    "            for s in span:\n",
    "    #             print(s.text)\n",
    "                name = s.text\n",
    "    #             print(s['href'],'h')\n",
    "                p_link = s['href']\n",
    "                person.loc[len(person.index)] = [p_link[8:-15],name]\n",
    "                person.drop_duplicates(inplace = True)\n",
    "                if (role[:5] == 'Stars'):\n",
    "                    cast.loc[len(cast.index)] = [movie_id,p_link[8:-15]]\n",
    "                else:\n",
    "                    crew.loc[len(crew.index)] = [movie_id,p_link[8:-15],role]\n",
    "    except Exception as e: \n",
    "        print(e)       \n",
    "        xrror.append(link)"
   ]
  },
  {
   "cell_type": "code",
   "execution_count": 35,
   "metadata": {},
   "outputs": [
    {
     "data": {
      "text/html": [
       "<div>\n",
       "<style scoped>\n",
       "    .dataframe tbody tr th:only-of-type {\n",
       "        vertical-align: middle;\n",
       "    }\n",
       "\n",
       "    .dataframe tbody tr th {\n",
       "        vertical-align: top;\n",
       "    }\n",
       "\n",
       "    .dataframe thead th {\n",
       "        text-align: right;\n",
       "    }\n",
       "</style>\n",
       "<table border=\"1\" class=\"dataframe\">\n",
       "  <thead>\n",
       "    <tr style=\"text-align: right;\">\n",
       "      <th></th>\n",
       "      <th>movie_id</th>\n",
       "      <th>person_id</th>\n",
       "    </tr>\n",
       "  </thead>\n",
       "  <tbody>\n",
       "    <tr>\n",
       "      <th>0</th>\n",
       "      <td>0111161</td>\n",
       "      <td>0000209</td>\n",
       "    </tr>\n",
       "    <tr>\n",
       "      <th>1</th>\n",
       "      <td>0111161</td>\n",
       "      <td>0000151</td>\n",
       "    </tr>\n",
       "    <tr>\n",
       "      <th>2</th>\n",
       "      <td>0111161</td>\n",
       "      <td>0348409</td>\n",
       "    </tr>\n",
       "    <tr>\n",
       "      <th>3</th>\n",
       "      <td>0068646</td>\n",
       "      <td>0000008</td>\n",
       "    </tr>\n",
       "    <tr>\n",
       "      <th>4</th>\n",
       "      <td>0068646</td>\n",
       "      <td>0000199</td>\n",
       "    </tr>\n",
       "    <tr>\n",
       "      <th>...</th>\n",
       "      <td>...</td>\n",
       "      <td>...</td>\n",
       "    </tr>\n",
       "    <tr>\n",
       "      <th>70</th>\n",
       "      <td>0317248</td>\n",
       "      <td>1129884</td>\n",
       "    </tr>\n",
       "    <tr>\n",
       "      <th>71</th>\n",
       "      <td>0317248</td>\n",
       "      <td>0618690</td>\n",
       "    </tr>\n",
       "    <tr>\n",
       "      <th>72</th>\n",
       "      <td>0816692</td>\n",
       "      <td>0000190</td>\n",
       "    </tr>\n",
       "    <tr>\n",
       "      <th>73</th>\n",
       "      <td>0816692</td>\n",
       "      <td>0004266</td>\n",
       "    </tr>\n",
       "    <tr>\n",
       "      <th>74</th>\n",
       "      <td>0816692</td>\n",
       "      <td>1567113</td>\n",
       "    </tr>\n",
       "  </tbody>\n",
       "</table>\n",
       "<p>75 rows × 2 columns</p>\n",
       "</div>"
      ],
      "text/plain": [
       "   movie_id person_id\n",
       "0   0111161   0000209\n",
       "1   0111161   0000151\n",
       "2   0111161   0348409\n",
       "3   0068646   0000008\n",
       "4   0068646   0000199\n",
       "..      ...       ...\n",
       "70  0317248   1129884\n",
       "71  0317248   0618690\n",
       "72  0816692   0000190\n",
       "73  0816692   0004266\n",
       "74  0816692   1567113\n",
       "\n",
       "[75 rows x 2 columns]"
      ]
     },
     "execution_count": 35,
     "metadata": {},
     "output_type": "execute_result"
    }
   ],
   "source": [
    "cast"
   ]
  },
  {
   "cell_type": "markdown",
   "metadata": {},
   "source": [
    "save links[0:40] data (without cast and crew)"
   ]
  },
  {
   "cell_type": "code",
   "execution_count": 36,
   "metadata": {},
   "outputs": [],
   "source": [
    "cast.to_csv('cast.csv',index=False)\n",
    "crew.to_csv('crew.csv',index=False)\n",
    "person.to_csv('person.csv',index=False)\n",
    "genre_movie.to_csv('genre_movie.csv',index=False)\n",
    "movies.to_csv('movies.csv',index=False)"
   ]
  }
 ],
 "metadata": {
  "kernelspec": {
   "display_name": "Python 3 (ipykernel)",
   "language": "python",
   "name": "python3"
  },
  "language_info": {
   "codemirror_mode": {
    "name": "ipython",
    "version": 3
   },
   "file_extension": ".py",
   "mimetype": "text/x-python",
   "name": "python",
   "nbconvert_exporter": "python",
   "pygments_lexer": "ipython3",
   "version": "3.8.0"
  },
  "vscode": {
   "interpreter": {
    "hash": "082e9a3bcad0a290d0001e938aa60b99250c6c2ef33a923c00b70f9826caf4b7"
   }
  }
 },
 "nbformat": 4,
 "nbformat_minor": 2
}
