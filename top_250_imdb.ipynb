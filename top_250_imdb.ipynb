{
 "cells": [
  {
   "cell_type": "code",
   "execution_count": 44,
   "metadata": {},
   "outputs": [],
   "source": [
    "import requests\n",
    "from bs4 import BeautifulSoup\n",
    "import re\n",
    "import warnings\n",
    "import json\n",
    "warnings.filterwarnings('ignore')\n",
    "import numpy as np\n",
    "import pandas as pd"
   ]
  },
  {
   "cell_type": "code",
   "execution_count": null,
   "metadata": {},
   "outputs": [],
   "source": [
    "path = 'https://www.imdb.com/chart/top/?ref_=nv_mv_250'\n",
    "base = 'https://www.imdb.com'\n",
    "headers = {'User-Agent': 'Safari/605.1.15'}"
   ]
  },
  {
   "cell_type": "markdown",
   "metadata": {},
   "source": [
    "# GET LINKs"
   ]
  },
  {
   "cell_type": "code",
   "execution_count": null,
   "metadata": {
    "scrolled": true
   },
   "outputs": [],
   "source": [
    "r = requests.get(f'{path}')\n",
    "soup = BeautifulSoup(r.content, 'html.parser')\n",
    "s = soup.find('tbody', class_ = 'lister-list')\n",
    "movies = s.find_all('td',class_ = 'titleColumn')\n",
    "links = []\n",
    "for movie in movies:\n",
    "    link = movie.a['href']\n",
    "    links.append(f'{link}')"
   ]
  },
  {
   "cell_type": "markdown",
   "metadata": {},
   "source": [
    "save links"
   ]
  },
  {
   "cell_type": "code",
   "execution_count": null,
   "metadata": {},
   "outputs": [],
   "source": [
    "links = np.array(links)\n",
    "np.save('top_250_Linkes',links)"
   ]
  },
  {
   "cell_type": "markdown",
   "metadata": {},
   "source": [
    "load links"
   ]
  },
  {
   "cell_type": "code",
   "execution_count": null,
   "metadata": {},
   "outputs": [],
   "source": [
    "links = np.load('top_250_Linkes.npy')"
   ]
  },
  {
   "cell_type": "markdown",
   "metadata": {},
   "source": [
    "# GET DATA"
   ]
  },
  {
   "cell_type": "code",
   "execution_count": null,
   "metadata": {},
   "outputs": [],
   "source": [
    "xrror_gross_us_canda = []\n",
    "xrror_runtime = []\n",
    "xrror_genre_movie = []\n",
    "xrror_cast = []\n",
    "xrror_cast = []\n",
    "xrror_storyline = []\n",
    "xrror = []\n",
    "\n",
    "movies = pd.DataFrame(columns = ['id','title','year','runtime','parental_guide','gross_us_canda'])\n",
    "genre_movie =  pd.DataFrame(columns = ['movie_id','genre'])\n",
    "cast = pd.DataFrame(columns = ['movie_id','person_id'])\n",
    "crew = pd.DataFrame(columns = ['movie_id','person_id','role'])\n",
    "person = pd.DataFrame(columns = ['person_id','name'])\n",
    "storyline = pd.DataFrame(columns = ['movie_id','content'])"
   ]
  },
  {
   "cell_type": "code",
   "execution_count": null,
   "metadata": {},
   "outputs": [],
   "source": [
    "for link in links:\n",
    "    \n",
    "    r = requests.get(f'{base}{link}', headers=headers)\n",
    "    soup = BeautifulSoup(r.content, 'html.parser')\n",
    "\n",
    "    try:\n",
    "        movie_id = link[9:-1]\n",
    "        try:\n",
    "            content = soup.find('div', class_ = 'ipc-html-content-inner-div').text\n",
    "            storyline.loc[len(storyline.index)] = [movie_id,content]\n",
    "\n",
    "        except Exception as e:\n",
    "            storyline.loc[len(storyline.index)] = [movie_id,'']\n",
    "            print(f'storyline {e}')\n",
    "            xrror_storyline.append(link)\n",
    "        title = soup.find('span', class_ = 'sc-afe43def-1 fDTGTb').text\n",
    "        info = soup.find_all('li',role ='presentation',class_=\"ipc-inline-list__item\")\n",
    "        year = int(info[3].text)\n",
    "        parental_guide = info[4].text\n",
    "        runtime = info[5].text\n",
    "        try :\n",
    "            runtime = int(runtime[0])*60 + int(runtime[3:-1])\n",
    "        except Exception as e: \n",
    "            print(f'runtime {e}')       \n",
    "            xrror_runtime.append(link)\n",
    "        try:\n",
    "            gross_us_canda = soup.find_all('span', class_ = 'ipc-metadata-list-item__list-content-item')[3].text\n",
    "        except Exception as e:\n",
    "            gross_us_canda = ''\n",
    "            print(f'gross_us_canda {e}')       \n",
    "            xrror_gross_us_canda.append(link)\n",
    "        movies.loc[len(movies.index)] = [movie_id,title,year,runtime,parental_guide,gross_us_canda]\n",
    "        genres = soup.find_all('a', class_ = 'ipc-chip ipc-chip--on-baseAlt')\n",
    "        for g in genres:\n",
    "            try: \n",
    "                genre_movie.loc[len(genre_movie.index)] = [movie_id,g.text]\n",
    "            except Exception as e: \n",
    "                print(f'genre_movie {e}')       \n",
    "                xrror_genre_movie.append(link)\n",
    "        for i in soup.find_all('li', \n",
    "            class_ = 'ipc-metadata-list__item')[:3]:\n",
    "            span = i.find_all('a'\n",
    "                ,class_ = 'ipc-metadata-list-item__list-content-item ipc-metadata-list-item__list-content-item--link')\n",
    "            role = f'{i.text[:8]}'\n",
    "            for s in span:\n",
    "                name = s.text\n",
    "                p_link = s['href']\n",
    "                person.loc[len(person.index)] = [p_link[8:-15].zfill(7),name]\n",
    "                person.drop_duplicates(inplace = True)\n",
    "                if (role[:5] == 'Stars'):\n",
    "                    try:\n",
    "                        cast.loc[len(cast.index)] = [movie_id,p_link[8:-15].zfill(7)]\n",
    "                    except Exception as e: \n",
    "                        print(f'cast {e}')       \n",
    "                        xrror_cast.append(link)\n",
    "                else:\n",
    "                    try:\n",
    "                        crew.loc[len(crew.index)] = [movie_id,p_link[8:-15].zfill(7),role[:]]\n",
    "                    except Exception as e: \n",
    "                        print(f'crew {e}')       \n",
    "                        xrror_crew.append(link)\n",
    "                        \n",
    "    except Exception as e: \n",
    "        print(e)       \n",
    "        xrror.append(link)"
   ]
  },
  {
   "cell_type": "markdown",
   "metadata": {},
   "source": [
    "Handle Error HARDCODE :|"
   ]
  },
  {
   "cell_type": "code",
   "execution_count": null,
   "metadata": {},
   "outputs": [],
   "source": [
    "runtime = movies[movies['id'] == '0082096'].parental_guide.iloc[0]\n",
    "false_value = movies[movies['id'] == '0082096'].runtime.iloc[0]\n",
    "movies['parental_guide'].replace(runtime,'',inplace = True)\n",
    "movies['runtime'].replace(false_value, int(runtime[0])*60 + int(runtime[3:-1]),inplace = True)\n",
    "\n",
    "movies['runtime'].replace('2h',120,inplace = True)\n",
    "movies['runtime'].replace('3h',180,inplace = True)\n",
    "movies['runtime'].replace('4h',240,inplace = True)"
   ]
  },
  {
   "cell_type": "markdown",
   "metadata": {},
   "source": [
    "save data "
   ]
  },
  {
   "cell_type": "code",
   "execution_count": null,
   "metadata": {},
   "outputs": [],
   "source": [
    "cast.to_csv('cast.csv',index=False)\n",
    "crew.to_csv('crew.csv',index=False)\n",
    "person.to_csv('person.csv',index=False)\n",
    "genre_movie.to_csv('genre_movie.csv',index=False)\n",
    "movies.to_csv('movies.csv',index=False)\n",
    "storyline.to_csv('storyline.csv',index=False)"
   ]
  },
  {
   "cell_type": "markdown",
   "metadata": {},
   "source": [
    "# LOAD CSVs "
   ]
  },
  {
   "cell_type": "code",
   "execution_count": 46,
   "metadata": {},
   "outputs": [],
   "source": [
    "movies = pd.read_csv('movies.csv',dtype=object)\n",
    "genre_movie =  pd.read_csv('genre_movie.csv',dtype=object)\n",
    "cast = pd.read_csv('cast.csv',dtype=object)\n",
    "crew = pd.read_csv('crew.csv',dtype=object)\n",
    "person = pd.read_csv('person.csv',dtype=object)\n",
    "storyline = pd.read_csv('storyline.csv',dtype=object)"
   ]
  },
  {
   "cell_type": "markdown",
   "metadata": {},
   "source": [
    "# FIX csv"
   ]
  },
  {
   "cell_type": "code",
   "execution_count": null,
   "metadata": {},
   "outputs": [],
   "source": [
    "movies"
   ]
  },
  {
   "cell_type": "code",
   "execution_count": 111,
   "metadata": {},
   "outputs": [],
   "source": [
    "# # replace gross_us_canda where $ is not present with nan\n",
    "# movies.loc[~(movies['gross_us_canda'].str.find('$') != -1),'gross_us_canda'] = np.nan\n",
    "\n",
    "# # remove $ and , from gross_us_canda\n",
    "# movies['gross_us_canda'] = movies['gross_us_canda'].str.replace('$','')\n",
    "# movies['gross_us_canda'] = movies['gross_us_canda'].str.replace(',','')\n",
    "\n",
    "# # change gross_us_canda to float\n",
    "# movies['gross_us_canda'] = movies['gross_us_canda'].astype(int)\n",
    "\n",
    "# # replace not rated and unrated with unrated\n",
    "# movies['parental_guide'] = movies['parental_guide'].replace('Not Rated','Unrated')\n",
    "# movies['parental_guide'].fillna('Unrated',inplace = True)\n",
    "\n",
    "# # remove m frome runtime\n",
    "# movies['runtime'] = movies['runtime'].str.replace('m','')\n",
    "\n",
    "# # change dtype year to int, runtime to int, parental_guide \n",
    "# movies['year'] = movies['year'].astype(float)\n",
    "# movies['runtime'] = movies['runtime'].astype(float)\n",
    "\n",
    "# # '' to null\n",
    "# movies.replace('',np.nan, inplace = True)\n",
    "\n",
    "# # remove 0 from start of id\n",
    "# # movies['id'] = movies['id'].str.replace('^0+','')\n",
    "\n",
    "# # rename title to Title, year to Year, runtime to Runtime,\n",
    "# #parental_guide to Parental_Guide, gross_us_canda to Gross_US_Canda\n",
    "\n",
    "# movies.rename(columns={'title':'Title',\n",
    "#                        'year':'Year',\n",
    "#                        'runtime':'Runtime',\n",
    "#                        'parental_guide':'Parental_Guide',\n",
    "#                        'gross_us_canda':'Gross_US_Canda'},inplace=True)\n"
   ]
  },
  {
   "cell_type": "code",
   "execution_count": 110,
   "metadata": {},
   "outputs": [],
   "source": [
    "movies[\"Parental_Guide\"].value_counts()"
   ]
  },
  {
   "cell_type": "markdown",
   "metadata": {},
   "source": [
    "## person"
   ]
  },
  {
   "cell_type": "code",
   "execution_count": 109,
   "metadata": {},
   "outputs": [],
   "source": [
    "# rename person_id to id\n",
    "person.rename(columns={'person_id':'id'}, inplace=True)\n",
    "\n",
    "# remove 0 from start of id\n",
    "# person['id'] = person['id'].str.replace('^0+','')\n",
    "\n",
    "## rename name to Name\n",
    "person.rename(columns={'name':'Name'}, inplace=True)"
   ]
  },
  {
   "cell_type": "markdown",
   "metadata": {},
   "source": [
    "## genre_movie"
   ]
  },
  {
   "cell_type": "code",
   "execution_count": 108,
   "metadata": {},
   "outputs": [],
   "source": [
    "## remove 0 from start of movie_id\n",
    "# genre_movie['movie_id'] = genre_movie['movie_id'].str.replace('^0+','')\n",
    "\n",
    "## rename movie_id to Movie_id, genre to Genre\n",
    "genre_movie.rename(columns={'movie_id':'Movie_id',\n",
    "                            'genre':'Genre'}, inplace=True)"
   ]
  },
  {
   "cell_type": "markdown",
   "metadata": {},
   "source": [
    "## cast"
   ]
  },
  {
   "cell_type": "code",
   "execution_count": 107,
   "metadata": {},
   "outputs": [],
   "source": [
    "## remove 0 from start of movie_id\n",
    "# cast['movie_id'] = cast['movie_id'].str.replace('^0+','')\n",
    "\n",
    "## remove 0 from start of person_id\n",
    "# cast['person_id'] = cast['person_id'].str.replace('^0+','')\n",
    "\n",
    "## rename movie_id to Movie_id, person_id to Person_id\n",
    "cast.rename(columns={'movie_id':'Movie_id',\n",
    "                     'person_id':'Person_id'}, inplace=True)"
   ]
  },
  {
   "cell_type": "markdown",
   "metadata": {},
   "source": [
    "## crew"
   ]
  },
  {
   "cell_type": "code",
   "execution_count": 106,
   "metadata": {},
   "outputs": [],
   "source": [
    "## remove 0 from start of movie_id\n",
    "# crew['movie_id'] = crew['movie_id'].str.replace('^0+','')\n",
    "\n",
    "## remove 0 from start of person_id\n",
    "# crew['person_id'] = crew['person_id'].str.replace('^0+','')\n",
    "\n",
    "## rename movie_id to Movie_id, person_id to Person_id, role to Role\n",
    "crew.rename(columns={'movie_id':'Movie_id',\n",
    "                     'person_id':'Person_id',\n",
    "                     'role':'Role'}, inplace=True)"
   ]
  },
  {
   "cell_type": "markdown",
   "metadata": {},
   "source": [
    "## storyline"
   ]
  },
  {
   "cell_type": "code",
   "execution_count": 105,
   "metadata": {},
   "outputs": [],
   "source": [
    "## remove 0 from start of movie_id\n",
    "# storyline['movie_id'] = storyline['movie_id'].str.replace('^0+','')\n",
    "\n",
    "## rename movie_id to Movie_id, storyline to Storyline\n",
    "storyline.rename(columns={'movie_id':'Movie_id',\n",
    "                          'content':'Content'}, inplace=True)"
   ]
  },
  {
   "cell_type": "code",
   "execution_count": 104,
   "metadata": {},
   "outputs": [],
   "source": [
    "cast.to_csv('./Fixed_Data/cast.csv',index=False)\n",
    "crew.to_csv('./Fixed_Data/crew.csv',index=False)\n",
    "person.to_csv('./Fixed_Data/person.csv',index=False)\n",
    "genre_movie.to_csv('./Fixed_Data/genre_movie.csv',index=False)\n",
    "movies.to_csv('./Fixed_Data/movies.csv',index=False)\n",
    "storyline.to_csv('./Fixed_Data/storyline.csv',index=False)"
   ]
  }
 ],
 "metadata": {
  "kernelspec": {
   "display_name": "Python 3 (ipykernel)",
   "language": "python",
   "name": "python3"
  },
  "language_info": {
   "codemirror_mode": {
    "name": "ipython",
    "version": 3
   },
   "file_extension": ".py",
   "mimetype": "text/x-python",
   "name": "python",
   "nbconvert_exporter": "python",
   "pygments_lexer": "ipython3",
   "version": "3.8.0"
  },
  "vscode": {
   "interpreter": {
    "hash": "082e9a3bcad0a290d0001e938aa60b99250c6c2ef33a923c00b70f9826caf4b7"
   }
  }
 },
 "nbformat": 4,
 "nbformat_minor": 2
}
