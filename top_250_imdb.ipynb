{
 "cells": [
  {
   "cell_type": "code",
   "execution_count": 1,
   "metadata": {},
   "outputs": [],
   "source": [
    "import requests\n",
    "from bs4 import BeautifulSoup\n",
    "import re\n",
    "import warnings\n",
    "import json\n",
    "warnings.filterwarnings('ignore')\n",
    "import numpy as np\n",
    "import pandas as pd"
   ]
  },
  {
   "cell_type": "markdown",
   "metadata": {},
   "source": [
    "# GET LINKs"
   ]
  },
  {
   "cell_type": "code",
   "execution_count": 2,
   "metadata": {},
   "outputs": [],
   "source": [
    "path = 'https://www.imdb.com/chart/top/?ref_=nv_mv_250'\n",
    "r = requests.get(f'{path}')\n",
    "soup = BeautifulSoup(r.content, 'html.parser')\n",
    "links = []\n",
    "base = 'https://www.imdb.com'"
   ]
  },
  {
   "cell_type": "code",
   "execution_count": 3,
   "metadata": {
    "scrolled": true
   },
   "outputs": [],
   "source": [
    "path = 'https://www.imdb.com/chart/top/?ref_=nv_mv_250'\n",
    "r = requests.get(f'{path}')\n",
    "soup = BeautifulSoup(r.content, 'html.parser')\n",
    "s = soup.find('tbody', class_ = 'lister-list')\n",
    "movies = s.find_all('td',class_ = 'titleColumn')\n",
    "links = []\n",
    "base = 'https://www.imdb.com'\n",
    "for movie in movies:\n",
    "    link = movie.a['href']\n",
    "    links.append(f'{link}')"
   ]
  },
  {
   "cell_type": "markdown",
   "metadata": {},
   "source": [
    "save links"
   ]
  },
  {
   "cell_type": "code",
   "execution_count": 4,
   "metadata": {},
   "outputs": [],
   "source": [
    "links = np.array(links)\n",
    "np.save('top_250_Linkes',links)"
   ]
  },
  {
   "cell_type": "markdown",
   "metadata": {},
   "source": [
    "load links"
   ]
  },
  {
   "cell_type": "code",
   "execution_count": 10,
   "metadata": {},
   "outputs": [],
   "source": [
    "links = np.load('top_250_Linkes.npy')"
   ]
  },
  {
   "cell_type": "markdown",
   "metadata": {},
   "source": [
    "# GET DATA"
   ]
  },
  {
   "cell_type": "code",
   "execution_count": 9,
   "metadata": {},
   "outputs": [],
   "source": [
    "# headers = {'User-Agent': 'Safari/605.1.15'}\n",
    "# xrror_gross_us_canda = []\n",
    "# xrror_runtime = []\n",
    "# xrror_genre_movie = []\n",
    "# xrror_cast = []\n",
    "# xrror_cast = []\n",
    "# xrror = []\n",
    "\n",
    "# movies = pd.DataFrame(columns = ['id','title','year','runtime','parental_guide','gross_us_canda'])\n",
    "# genre_movie =  pd.DataFrame(columns = ['movie_id','genre'])\n",
    "cast = pd.DataFrame(columns = ['movie_id','person_id'])\n",
    "crew = pd.DataFrame(columns = ['movie_id','person_id','role'])\n",
    "person = pd.DataFrame(columns = ['person_id','name'])"
   ]
  },
  {
   "cell_type": "code",
   "execution_count": 129,
   "metadata": {},
   "outputs": [],
   "source": [
    "for link in links:\n",
    "    r = requests.get(f'{base}{link}', headers=headers)\n",
    "    soup = BeautifulSoup(r.content, 'html.parser')\n",
    "#     try:\n",
    "#         movie_id = link[9:-1]\n",
    "#         title = soup.find('span', class_ = 'sc-afe43def-1 fDTGTb').text\n",
    "#         info = soup.find_all('li',role ='presentation',class_=\"ipc-inline-list__item\")\n",
    "#         year = int(info[3].text)\n",
    "#         parental_guide = info[4].text\n",
    "#         runtime = info[5].text\n",
    "#         try :\n",
    "#             runtime = int(runtime[0])*60 + int(runtime[3:-1])\n",
    "#         except Exception as e: \n",
    "#             print(f'runtime {e}')       \n",
    "#             xrror_runtime.append(link)\n",
    "#         try:\n",
    "#             gross_us_canda = soup.find_all('span', class_ = 'ipc-metadata-list-item__list-content-item')[3].text\n",
    "#         except Exception as e:\n",
    "#             gross_us_canda = ''\n",
    "#             print(f'gross_us_canda {e}')       \n",
    "#             xrror_gross_us_canda.append(link)\n",
    "#         movies.loc[len(movies.index)] = [movie_id,title,year,runtime,parental_guide,gross_us_canda]\n",
    "#         genres = soup.find_all('a', class_ = 'ipc-chip ipc-chip--on-baseAlt')\n",
    "#         for g in genres:\n",
    "#             try: \n",
    "#                 genre_movie.loc[len(genre_movie.index)] = [movie_id,g.text]\n",
    "#             except Exception as e: \n",
    "#                 print(f'genre_movie {e}')       \n",
    "#                 xrror_genre_movie.append(link)\n",
    "    for i in soup.find_all('li', \n",
    "        class_ = 'ipc-metadata-list__item')[:3]:\n",
    "        span = i.find_all('a'\n",
    "            ,class_ = 'ipc-metadata-list-item__list-content-item ipc-metadata-list-item__list-content-item--link')\n",
    "        role = f'{i.text[:8]}'\n",
    "        for s in span:\n",
    "            name = s.text\n",
    "            p_link = s['href']\n",
    "            person.loc[len(person.index)] = [p_link[8:-15].zfill(7),name]\n",
    "            person.drop_duplicates(inplace = True)\n",
    "            if (role[:5] == 'Stars'):\n",
    "                try:\n",
    "                    cast.loc[len(cast.index)] = [movie_id,p_link[8:-15].zfill(7)]\n",
    "                except Exception as e: \n",
    "                    print(f'cast {e}')       \n",
    "                    xrror_cast.append(link)\n",
    "            else:\n",
    "                try:\n",
    "                    crew.loc[len(crew.index)] = [movie_id,p_link[8:-15].zfill(7),role]\n",
    "                except Exception as e: \n",
    "                    print(f'crew {e}')       \n",
    "                    xrror_crew.append(link)\n",
    "                        \n",
    "#     except Exception as e: \n",
    "#         print(e)       \n",
    "#         xrror.append(link)"
   ]
  },
  {
   "cell_type": "markdown",
   "metadata": {},
   "source": [
    "Handle Error HARDCODE :|"
   ]
  },
  {
   "cell_type": "code",
   "execution_count": 124,
   "metadata": {},
   "outputs": [
    {
     "data": {
      "text/html": [
       "<div>\n",
       "<style scoped>\n",
       "    .dataframe tbody tr th:only-of-type {\n",
       "        vertical-align: middle;\n",
       "    }\n",
       "\n",
       "    .dataframe tbody tr th {\n",
       "        vertical-align: top;\n",
       "    }\n",
       "\n",
       "    .dataframe thead th {\n",
       "        text-align: right;\n",
       "    }\n",
       "</style>\n",
       "<table border=\"1\" class=\"dataframe\">\n",
       "  <thead>\n",
       "    <tr style=\"text-align: right;\">\n",
       "      <th></th>\n",
       "      <th>id</th>\n",
       "      <th>title</th>\n",
       "      <th>year</th>\n",
       "      <th>runtime</th>\n",
       "      <th>parental_guide</th>\n",
       "      <th>gross_us_canda</th>\n",
       "    </tr>\n",
       "  </thead>\n",
       "  <tbody>\n",
       "    <tr>\n",
       "      <th>76</th>\n",
       "      <td>0082096</td>\n",
       "      <td>Das Boot</td>\n",
       "      <td>1981</td>\n",
       "      <td>149</td>\n",
       "      <td></td>\n",
       "      <td>$11,487,676</td>\n",
       "    </tr>\n",
       "  </tbody>\n",
       "</table>\n",
       "</div>"
      ],
      "text/plain": [
       "         id     title  year runtime parental_guide gross_us_canda\n",
       "76  0082096  Das Boot  1981     149                   $11,487,676"
      ]
     },
     "execution_count": 124,
     "metadata": {},
     "output_type": "execute_result"
    }
   ],
   "source": [
    "runtime = movies[movies['id'] == '0082096'].parental_guide.iloc[0]\n",
    "false_value = movies[movies['id'] == '0082096'].runtime.iloc[0]\n",
    "movies['parental_guide'].replace(runtime,'',inplace = True)\n",
    "movies['runtime'].replace(false_value, int(runtime[0])*60 + int(runtime[3:-1]),inplace = True)\n",
    "\n",
    "movies['runtime'].replace('2h',120,inplace = True)\n",
    "movies['runtime'].replace('3h',180,inplace = True)\n",
    "movies['runtime'].replace('4h',240,inplace = True)"
   ]
  },
  {
   "cell_type": "code",
   "execution_count": 99,
   "metadata": {},
   "outputs": [],
   "source": [
    "movies['runtime'].replace('2h',120,inplace = True)\n",
    "movies['runtime'].replace('3h',180,inplace = True)\n",
    "movies['runtime'].replace('4h',240,inplace = True)"
   ]
  },
  {
   "cell_type": "code",
   "execution_count": 153,
   "metadata": {},
   "outputs": [
    {
     "ename": "TypeError",
     "evalue": "read_csv() got an unexpected keyword argument 'type'",
     "output_type": "error",
     "traceback": [
      "\u001b[0;31m---------------------------------------------------------------------------\u001b[0m",
      "\u001b[0;31mTypeError\u001b[0m                                 Traceback (most recent call last)",
      "Cell \u001b[0;32mIn[153], line 1\u001b[0m\n\u001b[0;32m----> 1\u001b[0m cast_p \u001b[38;5;241m=\u001b[39m \u001b[43mpd\u001b[49m\u001b[38;5;241;43m.\u001b[39;49m\u001b[43mread_csv\u001b[49m\u001b[43m(\u001b[49m\u001b[38;5;124;43m'\u001b[39;49m\u001b[38;5;124;43mcast.csv\u001b[39;49m\u001b[38;5;124;43m'\u001b[39;49m\u001b[43m,\u001b[49m\u001b[38;5;28;43mtype\u001b[39;49m\u001b[43m \u001b[49m\u001b[38;5;241;43m=\u001b[39;49m\u001b[43m \u001b[49m\u001b[38;5;28;43mstr\u001b[39;49m\u001b[43m)\u001b[49m\n\u001b[1;32m      2\u001b[0m cast_p\n",
      "File \u001b[0;32m/Library/Frameworks/Python.framework/Versions/3.8/lib/python3.8/site-packages/pandas/util/_decorators.py:311\u001b[0m, in \u001b[0;36mdeprecate_nonkeyword_arguments.<locals>.decorate.<locals>.wrapper\u001b[0;34m(*args, **kwargs)\u001b[0m\n\u001b[1;32m    305\u001b[0m \u001b[38;5;28;01mif\u001b[39;00m \u001b[38;5;28mlen\u001b[39m(args) \u001b[38;5;241m>\u001b[39m num_allow_args:\n\u001b[1;32m    306\u001b[0m     warnings\u001b[38;5;241m.\u001b[39mwarn(\n\u001b[1;32m    307\u001b[0m         msg\u001b[38;5;241m.\u001b[39mformat(arguments\u001b[38;5;241m=\u001b[39marguments),\n\u001b[1;32m    308\u001b[0m         \u001b[38;5;167;01mFutureWarning\u001b[39;00m,\n\u001b[1;32m    309\u001b[0m         stacklevel\u001b[38;5;241m=\u001b[39mstacklevel,\n\u001b[1;32m    310\u001b[0m     )\n\u001b[0;32m--> 311\u001b[0m \u001b[38;5;28;01mreturn\u001b[39;00m \u001b[43mfunc\u001b[49m\u001b[43m(\u001b[49m\u001b[38;5;241;43m*\u001b[39;49m\u001b[43margs\u001b[49m\u001b[43m,\u001b[49m\u001b[43m \u001b[49m\u001b[38;5;241;43m*\u001b[39;49m\u001b[38;5;241;43m*\u001b[39;49m\u001b[43mkwargs\u001b[49m\u001b[43m)\u001b[49m\n",
      "\u001b[0;31mTypeError\u001b[0m: read_csv() got an unexpected keyword argument 'type'"
     ]
    }
   ],
   "source": [
    "cast_p = pd.read_csv('cast.csv',type = str)\n",
    "cast_p"
   ]
  },
  {
   "cell_type": "markdown",
   "metadata": {},
   "source": [
    "save links[0:40] data (without cast and crew)"
   ]
  },
  {
   "cell_type": "code",
   "execution_count": 132,
   "metadata": {},
   "outputs": [],
   "source": [
    "cast.to_csv('cast.csv',index=False)\n",
    "crew.to_csv('crew.csv',index=False)\n",
    "person.to_csv('person.csv',index=False)\n",
    "genre_movie.to_csv('genre_movie.csv',index=False)\n",
    "movies.to_csv('movies.csv',index=False)"
   ]
  }
 ],
 "metadata": {
  "kernelspec": {
   "display_name": "Python 3 (ipykernel)",
   "language": "python",
   "name": "python3"
  },
  "language_info": {
   "codemirror_mode": {
    "name": "ipython",
    "version": 3
   },
   "file_extension": ".py",
   "mimetype": "text/x-python",
   "name": "python",
   "nbconvert_exporter": "python",
   "pygments_lexer": "ipython3",
   "version": "3.8.0"
  },
  "vscode": {
   "interpreter": {
    "hash": "082e9a3bcad0a290d0001e938aa60b99250c6c2ef33a923c00b70f9826caf4b7"
   }
  }
 },
 "nbformat": 4,
 "nbformat_minor": 2
}
