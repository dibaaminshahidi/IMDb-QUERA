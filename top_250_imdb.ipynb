{
 "cells": [
  {
   "cell_type": "code",
   "execution_count": 154,
   "metadata": {},
   "outputs": [],
   "source": [
    "import requests\n",
    "from bs4 import BeautifulSoup\n",
    "import re\n",
    "import warnings\n",
    "import json\n",
    "warnings.filterwarnings('ignore')\n",
    "import numpy as np\n",
    "import pandas as pd"
   ]
  },
  {
   "cell_type": "markdown",
   "metadata": {},
   "source": [
    "# GET LINKs"
   ]
  },
  {
   "cell_type": "code",
   "execution_count": 58,
   "metadata": {
    "scrolled": true
   },
   "outputs": [],
   "source": [
    "path = 'https://www.imdb.com/chart/top/?ref_=nv_mv_250'\n",
    "r = requests.get(f'{path}')\n",
    "soup = BeautifulSoup(r.content, 'html.parser')\n",
    "s = soup.find('tbody', class_ = 'lister-list')\n",
    "movies = s.find_all('td',class_ = 'titleColumn')\n",
    "links = []\n",
    "base = 'https://www.imdb.com'\n",
    "for movie in movies:\n",
    "    link = movie.a['href']\n",
    "    links.append(f'{link}')"
   ]
  },
  {
   "cell_type": "markdown",
   "metadata": {},
   "source": [
    "save links"
   ]
  },
  {
   "cell_type": "code",
   "execution_count": 36,
   "metadata": {},
   "outputs": [],
   "source": [
    "links = np.array(links)\n",
    "np.save('top_250_Linkes',links)"
   ]
  },
  {
   "cell_type": "markdown",
   "metadata": {},
   "source": [
    "# GET DATA"
   ]
  },
  {
   "cell_type": "code",
   "execution_count": 172,
   "metadata": {},
   "outputs": [],
   "source": [
    "headers = {'User-Agent': 'Safari/605.1.15'}\n",
    "xrror = []\n",
    "\n",
    "movies = pd.DataFrame(columns = ['id','title','year','runtime','parental_guide','gross_us_canda'])\n",
    "genre_movie =  pd.DataFrame(columns = ['movie_id','genre'])\n",
    "cast = ['movie_id','person_id']\n",
    "crew = ['movie_id','person_id','role']"
   ]
  },
  {
   "cell_type": "markdown",
   "metadata": {},
   "source": [
    "TODO : add cast and crew"
   ]
  },
  {
   "cell_type": "code",
   "execution_count": 188,
   "metadata": {},
   "outputs": [],
   "source": [
    "for link in links[32:40]:\n",
    "    r = requests.get(f'{base}{link}', headers=headers)\n",
    "    soup = BeautifulSoup(r.content, 'html.parser')\n",
    "    try:\n",
    "        movie_id = link[9:-1]\n",
    "        title = soup.find('span', class_ = 'sc-afe43def-1 fDTGTb').text\n",
    "        info = soup.find_all('li',role ='presentation',class_=\"ipc-inline-list__item\")\n",
    "        year = int(info[3].text)\n",
    "        parental_guide = info[4].text\n",
    "        runtime = info[5].text\n",
    "        gross_us_canda = soup.find_all('span', class_ = 'ipc-metadata-list-item__list-content-item')[3].text\n",
    "        movies.loc[len(movies.index)] = [movie_id,title,year,runtime,parental_guide,gross_us_canda]\n",
    "        genres = soup.find_all('a', class_ = 'ipc-chip ipc-chip--on-baseAlt')\n",
    "        for g in genres:\n",
    "            genre_movie.loc[len(genre_movie.index)] = [movie_id,g.text] \n",
    "#         casts = \n",
    "#         for cast in casts:\n",
    "#             person_id = \n",
    "#             cast.loc[len(cast.index)] = [movie_id,person_id] \n",
    "#             full_name = \n",
    "#             person.loc[len(person.index)] = [person_id,full_name]\n",
    "#             # must be cleaned (remove duplicates)\n",
    "#         each_crew = \n",
    "#         for c in each_crew:\n",
    "#             person_id = \n",
    "# #             check_type\n",
    "#             role = \n",
    "#             crew.loc[len(crew.index)] = [movie_id,person_id,role] \n",
    "#             full_name = \n",
    "#             person.loc[len(person.index)] = [person_id,full_name]\n",
    "#             # must be cleaned (remove duplicates)\n",
    "    except Exception as e: \n",
    "        print(e)       \n",
    "        xrror.append(link)\n"
   ]
  },
  {
   "cell_type": "markdown",
   "metadata": {},
   "source": [
    "save links[0:40] data (without cast and crew)"
   ]
  },
  {
   "cell_type": "code",
   "execution_count": null,
   "metadata": {},
   "outputs": [],
   "source": [
    "genres.to_csv('genres(re.zip',index=False)\n",
    "movies.to_csv(index=False)"
   ]
  }
 ],
 "metadata": {
  "kernelspec": {
   "display_name": "Python 3 (ipykernel)",
   "language": "python",
   "name": "python3"
  },
  "language_info": {
   "codemirror_mode": {
    "name": "ipython",
    "version": 3
   },
   "file_extension": ".py",
   "mimetype": "text/x-python",
   "name": "python",
   "nbconvert_exporter": "python",
   "pygments_lexer": "ipython3",
   "version": "3.8.0"
  },
  "vscode": {
   "interpreter": {
    "hash": "082e9a3bcad0a290d0001e938aa60b99250c6c2ef33a923c00b70f9826caf4b7"
   }
  }
 },
 "nbformat": 4,
 "nbformat_minor": 2
}
